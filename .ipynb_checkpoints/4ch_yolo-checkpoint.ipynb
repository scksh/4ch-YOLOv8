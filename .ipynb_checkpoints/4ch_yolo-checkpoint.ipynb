{
 "cells": [
  {
   "cell_type": "code",
   "execution_count": 7,
   "id": "ef4e0abe-1b6f-4bf0-b27a-18e3603055e6",
   "metadata": {},
   "outputs": [],
   "source": [
    "from ultralytics import YOLO\n",
    "import torch.nn as nn\n",
    "import torch\n",
    "from PIL import Image\n",
    "import torchvision.transforms as T\n",
    "from torch.utils.data import Dataset, DataLoader\n",
    "import os\n",
    "from tqdm import tqdm\n",
    "\n",
    "\n",
    "# 사전학습된 YOLOv8 불러오기\n",
    "model = YOLO('yolov8n.pt')  # n/s/m/l/x 중 선택 가능\n",
    "\n",
    "# 입력 Conv 레이어 수정 (원래 Conv2d(in_channels=3))\n",
    "first_layer = model.model.model[0]\n",
    "\n",
    "# 기존 파라미터 가져오기\n",
    "weight = first_layer.conv.weight  # [out_channels, in_channels=3, k, k]\n",
    "\n",
    "# 4채널로 확장 (새 채널은 평균으로 초기화)\n",
    "new_weight = torch.cat(\n",
    "    [weight, weight[:, :1, :, :]], dim=1\n",
    ") / 2  # 간단한 초기화 전략\n",
    "\n",
    "# 새로운 Conv 정의\n",
    "new_conv = nn.Conv2d(4, first_layer.conv.out_channels, kernel_size=first_layer.conv.kernel_size,\n",
    "                     stride=first_layer.conv.stride, padding=first_layer.conv.padding, bias=first_layer.conv.bias is not None)\n",
    "new_conv.weight = nn.Parameter(new_weight)\n",
    "if first_layer.conv.bias is not None:\n",
    "    new_conv.bias = first_layer.conv.bias\n",
    "\n",
    "# 레이어 교체\n",
    "first_layer.conv = new_conv"
   ]
  },
  {
   "cell_type": "code",
   "execution_count": 8,
   "id": "e99d6c4e-ebd8-40b5-bbc1-31e758cfc8d9",
   "metadata": {},
   "outputs": [],
   "source": [
    "# 모든 레이어 freeze\n",
    "for param in model.parameters():\n",
    "    param.requires_grad = False\n",
    "\n",
    "# 첫 번째 conv 레이어만 학습하도록 설정\n",
    "for param in model.model.model[0].parameters():\n",
    "    param.requires_grad = True\n"
   ]
  },
  {
   "cell_type": "code",
   "execution_count": 9,
   "id": "e9c1c381-481f-42ea-b1f4-49615995ad40",
   "metadata": {},
   "outputs": [],
   "source": [
    "# 경로 지정\n",
    "base_dir = r\"C:\\Users\\KSH\\Documents\\Final_project\\Custum_YOLOv8\\ultralytics-main\\datasets\\thermal\"\n",
    "rgb_dir = os.path.join(base_dir, \"images\", \"rgb\")\n",
    "thermal_dir = os.path.join(base_dir, \"images\", \"thermal\")\n",
    "label_dir = os.path.join(base_dir, \"labels\")\n",
    "\n",
    "# 전처리 정의\n",
    "transform = T.Compose([\n",
    "    T.Resize((640, 640)),\n",
    "    T.ToTensor(),\n",
    "])\n",
    "\n",
    "# 4채널 이미지 생성 함수\n",
    "def load_4ch_image(rgb_path, thermal_path):\n",
    "    rgb = Image.open(rgb_path).convert('RGB')\n",
    "    thermal = Image.open(thermal_path).convert('L')\n",
    "    rgb_tensor = transform(rgb)\n",
    "    thermal_tensor = transform(thermal)\n",
    "    return torch.cat([rgb_tensor, thermal_tensor], dim=0)  # (4, H, W)\n",
    "\n",
    "# YOLO 라벨 로딩 함수\n",
    "def load_label_txt(label_path):\n",
    "    with open(label_path, 'r') as f:\n",
    "        line = f.readline().strip()\n",
    "        if not line:\n",
    "            return torch.zeros(5)  # 빈 라벨 처리 (예외 방지)\n",
    "        return torch.tensor(list(map(float, line.split())), dtype=torch.float32)\n",
    "\n",
    "# 커스텀 데이터셋\n",
    "class CustomDataset(Dataset):\n",
    "    def __init__(self, rgb_dir, thermal_dir, label_dir):\n",
    "        self.rgb_dir = rgb_dir\n",
    "        self.thermal_dir = thermal_dir\n",
    "        self.label_dir = label_dir\n",
    "        self.image_ids = [f[:-4] for f in os.listdir(rgb_dir) if f.endswith(\".jpg\")]\n",
    "\n",
    "    def __len__(self):\n",
    "        return len(self.image_ids)\n",
    "\n",
    "    def __getitem__(self, idx):\n",
    "        image_id = self.image_ids[idx]\n",
    "        rgb_path = os.path.join(self.rgb_dir, f\"{image_id}.jpg\")\n",
    "        thermal_path = os.path.join(self.thermal_dir, f\"{image_id}.jpg\")\n",
    "        label_path = os.path.join(self.label_dir, f\"{image_id}.txt\")\n",
    "\n",
    "        img = load_4ch_image(rgb_path, thermal_path)\n",
    "        label = load_label_txt(label_path)\n",
    "        return img, label"
   ]
  },
  {
   "cell_type": "code",
   "execution_count": 4,
   "id": "00e690f5-02e4-4649-90f1-93cb910a412d",
   "metadata": {},
   "outputs": [
    {
     "name": "stdout",
     "output_type": "stream",
     "text": [
      "이미지 shape: torch.Size([8, 4, 640, 640])\n",
      "라벨 shape: torch.Size([8, 5])\n"
     ]
    }
   ],
   "source": [
    "dataset = CustomDataset(rgb_dir, thermal_dir, label_dir)\n",
    "loader = DataLoader(dataset, batch_size=8, shuffle=True)\n",
    "\n",
    "# 확인\n",
    "for imgs, labels in loader:\n",
    "    print(\"이미지 shape:\", imgs.shape)   # [B, 4, 640, 640]\n",
    "    print(\"라벨 shape:\", labels.shape)   # [B, 5]\n",
    "    break\n"
   ]
  },
  {
   "cell_type": "code",
   "execution_count": null,
   "id": "7fd921f3-79e2-4527-b7af-dac5d191125c",
   "metadata": {},
   "outputs": [
    {
     "name": "stdout",
     "output_type": "stream",
     "text": [
      "\u001b[34m\u001b[1mengine\\trainer: \u001b[0magnostic_nms=False, amp=True, augment=False, auto_augment=randaugment, batch=16, bgr=0.0, box=7.5, cache=False, cfg=None, classes=None, close_mosaic=10, cls=0.5, conf=None, copy_paste=0.0, copy_paste_mode=flip, cos_lr=False, cutmix=0.0, data=coco.yaml, degrees=0.0, deterministic=True, device=None, dfl=1.5, dnn=False, dropout=0.0, dynamic=False, embed=None, epochs=100, erasing=0.4, exist_ok=False, fliplr=0.5, flipud=0.0, format=torchscript, fraction=1.0, freeze=None, half=False, hsv_h=0.015, hsv_s=0.7, hsv_v=0.4, imgsz=640, int8=False, iou=0.7, keras=False, kobj=1.0, line_width=None, lr0=0.01, lrf=0.01, mask_ratio=4, max_det=300, mixup=0.0, mode=train, model=yolov8n.pt, momentum=0.937, mosaic=1.0, multi_scale=False, name=train57, nbs=64, nms=False, opset=None, optimize=False, optimizer=auto, overlap_mask=True, patience=100, perspective=0.0, plots=True, pose=12.0, pretrained=True, profile=False, project=None, rect=False, resume=False, retina_masks=False, save=True, save_conf=False, save_crop=False, save_dir=runs\\detect\\train57, save_frames=False, save_json=False, save_period=-1, save_txt=False, scale=0.5, seed=0, shear=0.0, show=False, show_boxes=True, show_conf=True, show_labels=True, simplify=True, single_cls=False, source=None, split=val, stream_buffer=False, task=detect, time=None, tracker=botsort.yaml, translate=0.1, val=True, verbose=True, vid_stride=1, visualize=False, warmup_bias_lr=0.1, warmup_epochs=3.0, warmup_momentum=0.8, weight_decay=0.0005, workers=8, workspace=None\n",
      "\n",
      "WARNING Dataset 'coco.yaml' images not found, missing path 'C:\\Users\\KSH\\Documents\\Final_project\\Custum_YOLOv8\\ultralytics-main\\datasets\\coco\\val2017.txt'\n",
      "WARNING Skipping C:\\Users\\KSH\\Documents\\Final_project\\Custum_YOLOv8\\ultralytics-main\\datasets\\coco2017labels-segments.zip unzip as destination directory C:\\Users\\KSH\\Documents\\Final_project\\Custum_YOLOv8\\ultralytics-main\\datasets\\coco is not empty.\n",
      "Downloading http://images.cocodataset.org/zips/train2017.zip to 'C:\\Users\\KSH\\Documents\\Final_project\\Custum_YOLOv8\\ultralytics-main\\datasets\\coco\\images\\train2017.zip'...\n",
      "Downloading http://images.cocodataset.org/zips/test2017.zip to 'C:\\Users\\KSH\\Documents\\Final_project\\Custum_YOLOv8\\ultralytics-main\\datasets\\coco\\images\\test2017.zip'...\n",
      "WARNING Skipping C:\\Users\\KSH\\Documents\\Final_project\\Custum_YOLOv8\\ultralytics-main\\datasets\\coco\\images\\val2017.zip unzip as destination directory C:\\Users\\KSH\\Documents\\Final_project\\Custum_YOLOv8\\ultralytics-main\\datasets\\coco\\images\\val2017 is not empty.\n"
     ]
    }
   ],
   "source": [
    "device = torch.device('cuda' if torch.cuda.is_available() else 'cpu')\n",
    "model.to(device)\n",
    "model.train()\n",
    "\n",
    "pt_model = model.model\n",
    "\n",
    "pt_model.to(device)\n",
    "pt_model.train()\n",
    "\n",
    "optimizer = torch.optim.Adam(filter(lambda p: p.requires_grad, pt_model.parameters()), lr=1e-4)\n",
    "\n",
    "num_epochs = 10\n",
    "for epoch in range(num_epochs):\n",
    "    total_loss = 0\n",
    "    pbar = tqdm(loader, desc=f\"Epoch {epoch+1}/{num_epochs}\")\n",
    "    for imgs, targets in pbar:\n",
    "        imgs = imgs.to(device)\n",
    "        targets = targets.to(device)\n",
    "\n",
    "        optimizer.zero_grad()\n",
    "\n",
    "        # PyTorch 모델 직접 호출\n",
    "        preds = pt_model(imgs)\n",
    "\n",
    "        # 커스텀 손실 계산 함수 필요 (아래는 예시)\n",
    "        loss = compute_custom_yolo_loss(preds, targets)\n",
    "\n",
    "        loss.backward()\n",
    "        optimizer.step()\n",
    "\n",
    "        total_loss += loss.item()\n",
    "        pbar.set_postfix({'loss': loss.item()})\n",
    "\n",
    "    print(f\"[Epoch {epoch+1}] Average Loss: {total_loss / len(loader):.4f}\")"
   ]
  },
  {
   "cell_type": "code",
   "execution_count": null,
   "id": "8ad3d82d-c602-4806-a082-ccfad3f4b25e",
   "metadata": {},
   "outputs": [],
   "source": []
  },
  {
   "cell_type": "code",
   "execution_count": null,
   "id": "0334d263-4d87-4aa1-959b-d8f39abf836f",
   "metadata": {},
   "outputs": [],
   "source": []
  },
  {
   "cell_type": "code",
   "execution_count": null,
   "id": "3244c1bc-9671-430f-bbfe-49e4868b6159",
   "metadata": {},
   "outputs": [],
   "source": []
  },
  {
   "cell_type": "code",
   "execution_count": null,
   "id": "29817c3c-cd1e-4f11-9fcb-5e94b6f87e3f",
   "metadata": {},
   "outputs": [],
   "source": []
  },
  {
   "cell_type": "code",
   "execution_count": null,
   "id": "c2615e79-d7ea-4a5d-8cab-41a6c09e09c3",
   "metadata": {},
   "outputs": [],
   "source": []
  },
  {
   "cell_type": "code",
   "execution_count": null,
   "id": "af7f48b7-c3f0-48a9-9f41-0d0d12e02cdd",
   "metadata": {},
   "outputs": [],
   "source": []
  },
  {
   "cell_type": "code",
   "execution_count": null,
   "id": "22425468-7843-447f-9555-e8d778818e6e",
   "metadata": {},
   "outputs": [],
   "source": []
  },
  {
   "cell_type": "code",
   "execution_count": null,
   "id": "307782bc-41e1-4370-9852-5e3947e296df",
   "metadata": {},
   "outputs": [],
   "source": []
  },
  {
   "cell_type": "code",
   "execution_count": null,
   "id": "c139939d-b5e7-46a5-957b-95a21f9be6d6",
   "metadata": {},
   "outputs": [],
   "source": []
  },
  {
   "cell_type": "code",
   "execution_count": null,
   "id": "dd659176-adf7-4f4b-8ee5-395127dfc3b4",
   "metadata": {},
   "outputs": [],
   "source": []
  }
 ],
 "metadata": {
  "kernelspec": {
   "display_name": "Python (cyclegan)",
   "language": "python",
   "name": "cyclegan"
  },
  "language_info": {
   "codemirror_mode": {
    "name": "ipython",
    "version": 3
   },
   "file_extension": ".py",
   "mimetype": "text/x-python",
   "name": "python",
   "nbconvert_exporter": "python",
   "pygments_lexer": "ipython3",
   "version": "3.8.20"
  }
 },
 "nbformat": 4,
 "nbformat_minor": 5
}
