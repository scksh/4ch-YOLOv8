{
 "cells": [
  {
   "cell_type": "markdown",
   "id": "af9b1eff-7417-4090-976c-1eeb5c9c7ba2",
   "metadata": {},
   "source": [
    "[![Open In Colab](https://colab.research.google.com/assets/colab-badge.svg)](https://colab.research.google.com/github/scksh/4ch-YOLOv8/blob/main/4ch-YOLOv8.ipynb)"
   ]
  },
  {
   "cell_type": "markdown",
   "id": "6a45f61b-9ced-4b03-b1f9-8feadd84fec6",
   "metadata": {},
   "source": [
    "# Install"
   ]
  },
  {
   "cell_type": "code",
   "execution_count": 1,
   "id": "8ccb5338-4f47-4b18-a7e3-8cf572544f39",
   "metadata": {},
   "outputs": [
    {
     "name": "stdout",
     "output_type": "stream",
     "text": [
      "'4ch-YOLOv8'에 복제합니다...\n",
      "remote: Enumerating objects: 956, done.\u001b[K\n",
      "remote: Counting objects: 100% (956/956), done.\u001b[K\n",
      "remote: Compressing objects: 100% (709/709), done.\u001b[K\n",
      "remote: Total 956 (delta 244), reused 946 (delta 236), pack-reused 0 (from 0)\u001b[K\n",
      "오브젝트를 받는 중: 100% (956/956), 1.95 MiB | 10.64 MiB/s, 완료.\n",
      "델타를 알아내는 중: 100% (244/244), 완료.\n"
     ]
    }
   ],
   "source": [
    "!git clone https://github.com/scksh/4ch-YOLOv8"
   ]
  },
  {
   "cell_type": "code",
   "execution_count": 2,
   "id": "d81fd7da-b45f-4e90-aed8-5ae44c0be7d1",
   "metadata": {},
   "outputs": [],
   "source": [
    "import os\n",
    "\n",
    "os.chdir(\"4ch-YOLOv8\")"
   ]
  },
  {
   "cell_type": "code",
   "execution_count": 3,
   "id": "27e41068-2cd9-46a5-9ec7-2bfeb45deb6d",
   "metadata": {},
   "outputs": [
    {
     "name": "stdout",
     "output_type": "stream",
     "text": [
      "\u001b[31mERROR: Could not open requirements file: [Errno 2] 그런 파일이나 디렉터리가 없습니다: 'requirements.txt'\u001b[0m\u001b[31m\n",
      "\u001b[0m"
     ]
    }
   ],
   "source": [
    "!pip install -r requirements.txt"
   ]
  },
  {
   "cell_type": "markdown",
   "id": "e4d629fc-85fb-4be2-8508-5e80d938cb4c",
   "metadata": {},
   "source": [
    "# Dataset"
   ]
  },
  {
   "cell_type": "code",
   "execution_count": 4,
   "id": "26fd01f0-5b23-4bd9-bc02-d6631bbcb50f",
   "metadata": {},
   "outputs": [
    {
     "data": {
      "application/vnd.jupyter.widget-view+json": {
       "model_id": "a456c24835eb4c52a6d7cbfafdd9d1d5",
       "version_major": 2,
       "version_minor": 0
      },
      "text/plain": [
       "RGBIR.zip:   0%|          | 0.00/7.63G [00:00<?, ?B/s]"
      ]
     },
     "metadata": {},
     "output_type": "display_data"
    }
   ],
   "source": [
    "import zipfile\n",
    "\n",
    "from huggingface_hub import hf_hub_download\n",
    "\n",
    "# Download dataset\n",
    "zip_path = hf_hub_download(repo_id=\"SUMMERZETT/RGBIR\", filename=\"RGBIR.zip\", repo_type=\"dataset\")\n",
    "\n",
    "with zipfile.ZipFile(zip_path, \"r\") as zip_ref:\n",
    "    zip_ref.extractall(\"./datasets\")"
   ]
  },
  {
   "cell_type": "markdown",
   "id": "5c8548f3-3ee2-4b41-9f1a-1230e85ace75",
   "metadata": {},
   "source": [
    "# Initial Weight"
   ]
  },
  {
   "cell_type": "code",
   "execution_count": 7,
   "id": "a61535d6-fa62-4da4-b35c-fe7775849374",
   "metadata": {},
   "outputs": [
    {
     "data": {
      "application/vnd.jupyter.widget-view+json": {
       "model_id": "cd8e19023aaf4145b3d8025bbf9b247c",
       "version_major": 2,
       "version_minor": 0
      },
      "text/plain": [
       "yolov8x_4ch_pretrained.pt:   0%|          | 0.00/137M [00:00<?, ?B/s]"
      ]
     },
     "metadata": {},
     "output_type": "display_data"
    }
   ],
   "source": [
    "from huggingface_hub import hf_hub_download\n",
    "\n",
    "# Download pretrained model\n",
    "model_path = hf_hub_download(\n",
    "    repo_id=\"SUMMERZETT/YOLOv8_pretrained\",\n",
    "    filename=\"yolov8x_4ch_pretrained.pt\",\n",
    "    repo_type=\"model\",\n",
    "    local_dir=\"./model\",\n",
    "    local_dir_use_symlinks=False,\n",
    ")"
   ]
  },
  {
   "cell_type": "markdown",
   "id": "a19f284d-c5b6-4931-b33a-65e2f3140acd",
   "metadata": {},
   "source": [
    "# Pre-trained model"
   ]
  },
  {
   "cell_type": "code",
   "execution_count": 5,
   "id": "724288a0-2448-407a-8ca3-98dac9635021",
   "metadata": {},
   "outputs": [
    {
     "name": "stderr",
     "output_type": "stream",
     "text": [
      "/home/ricky/anaconda3/lib/python3.12/site-packages/huggingface_hub/file_download.py:980: UserWarning: `local_dir_use_symlinks` parameter is deprecated and will be ignored. The process to download files to a local folder has been updated and do not rely on symlinks anymore. You only need to pass a destination folder as`local_dir`.\n",
      "For more details, check out https://huggingface.co/docs/huggingface_hub/main/en/guides/download#download-files-to-local-folder.\n",
      "  warnings.warn(\n"
     ]
    },
    {
     "data": {
      "application/vnd.jupyter.widget-view+json": {
       "model_id": "789ccfcbc51a4893a5197b84b9769576",
       "version_major": 2,
       "version_minor": 0
      },
      "text/plain": [
       "4ch-YOLOv8.pt:   0%|          | 0.00/137M [00:00<?, ?B/s]"
      ]
     },
     "metadata": {},
     "output_type": "display_data"
    }
   ],
   "source": [
    "from huggingface_hub import hf_hub_download\n",
    "\n",
    "# Download pretrained model\n",
    "model_path = hf_hub_download(\n",
    "    repo_id=\"SUMMERZETT/4ch-YOLOv8\",\n",
    "    filename=\"4ch-YOLOv8.pt\",\n",
    "    repo_type=\"model\",\n",
    "    local_dir=\"./pretrained\",\n",
    "    local_dir_use_symlinks=False,\n",
    ")"
   ]
  },
  {
   "cell_type": "markdown",
   "id": "9843afcf-a22e-4043-b004-3263301d64ca",
   "metadata": {},
   "source": [
    "# Training"
   ]
  },
  {
   "cell_type": "code",
   "execution_count": 8,
   "id": "93bab872-1b20-4d7e-84df-f8227fb6c3a4",
   "metadata": {},
   "outputs": [
    {
     "name": "stdout",
     "output_type": "stream",
     "text": [
      "New https://pypi.org/project/ultralytics/8.3.170 available 😃 Update with 'pip install -U ultralytics'\n",
      "Ultralytics 8.3.154 🚀 Python-3.12.7 torch-2.2.2+cu118 CPU (Intel Core(TM) i9-10900 2.80GHz)\n",
      "\u001b[34m\u001b[1mengine/trainer: \u001b[0magnostic_nms=False, amp=True, augment=False, auto_augment=randaugment, batch=8, bgr=0.0, box=7.5, cache=False, cfg=None, classes=None, close_mosaic=10, cls=0.5, conf=None, copy_paste=0.0, copy_paste_mode=flip, cos_lr=True, cutmix=0.0, data=ultralytics/cfg/datasets/RGBIR.yaml, degrees=0.0, deterministic=True, device=cpu, dfl=1.5, dnn=False, dropout=0.0, dynamic=False, embed=None, epochs=100, erasing=0.4, exist_ok=False, fliplr=0.5, flipud=0.0, format=torchscript, fraction=1.0, freeze=None, half=False, hsv_h=0.015, hsv_s=0.7, hsv_v=0.4, imgsz=640, int8=False, iou=0.7, keras=False, kobj=1.0, line_width=None, lr0=0.01, lrf=0.01, mask_ratio=4, max_det=300, mixup=0.0, mode=train, model=model/yolov8x_4ch_pretrained.pt, momentum=0.937, mosaic=1.0, multi_scale=False, name=train, nbs=64, nms=False, opset=None, optimize=False, optimizer=auto, overlap_mask=True, patience=100, perspective=0.0, plots=True, pose=12.0, pretrained=True, profile=False, project=None, rect=False, resume=False, retina_masks=False, save=True, save_conf=False, save_crop=False, save_dir=runs/detect/train, save_frames=False, save_json=False, save_period=-1, save_txt=False, scale=0.5, seed=0, shear=0.0, show=False, show_boxes=True, show_conf=True, show_labels=True, simplify=True, single_cls=False, source=None, split=val, stream_buffer=False, task=detect, time=None, tracker=botsort.yaml, translate=0.1, val=True, verbose=True, vid_stride=1, visualize=False, warmup_bias_lr=0.1, warmup_epochs=3.0, warmup_momentum=0.8, weight_decay=0.0005, workers=2, workspace=None\n",
      "\n",
      "Traceback (most recent call last):\n",
      "  File \"/home/ricky/anaconda3/lib/python3.12/site-packages/ultralytics/engine/trainer.py\", line 607, in get_dataset\n",
      "    data = check_det_dataset(self.args.data)\n",
      "           ^^^^^^^^^^^^^^^^^^^^^^^^^^^^^^^^^\n",
      "  File \"/home/ricky/anaconda3/lib/python3.12/site-packages/ultralytics/data/utils.py\", line 463, in check_det_dataset\n",
      "    raise FileNotFoundError(m)\n",
      "FileNotFoundError: Dataset 'ultralytics/cfg/datasets/RGBIR.yaml' images not found, missing path '/home/ricky/.local/share/Trash/files/4ch-YOLOv8/ultralytics/cfg/datasets/datasets/RGBIR/images/rgb_val'\n",
      "Note dataset download directory is '/home/ricky/datasets'. You can update this in '/home/ricky/.config/Ultralytics/settings.json'\n",
      "\n",
      "The above exception was the direct cause of the following exception:\n",
      "\n",
      "Traceback (most recent call last):\n",
      "  File \"/home/ricky/anaconda3/bin/yolo\", line 8, in <module>\n",
      "    sys.exit(entrypoint())\n",
      "             ^^^^^^^^^^^^\n",
      "  File \"/home/ricky/anaconda3/lib/python3.12/site-packages/ultralytics/cfg/__init__.py\", line 985, in entrypoint\n",
      "    getattr(model, mode)(**overrides)  # default args from model\n",
      "    ^^^^^^^^^^^^^^^^^^^^^^^^^^^^^^^^^\n",
      "  File \"/home/ricky/anaconda3/lib/python3.12/site-packages/ultralytics/engine/model.py\", line 791, in train\n",
      "    self.trainer = (trainer or self._smart_load(\"trainer\"))(overrides=args, _callbacks=self.callbacks)\n",
      "                   ^^^^^^^^^^^^^^^^^^^^^^^^^^^^^^^^^^^^^^^^^^^^^^^^^^^^^^^^^^^^^^^^^^^^^^^^^^^^^^^^^^^\n",
      "  File \"/home/ricky/anaconda3/lib/python3.12/site-packages/ultralytics/engine/trainer.py\", line 153, in __init__\n",
      "    self.data = self.get_dataset()\n",
      "                ^^^^^^^^^^^^^^^^^^\n",
      "  File \"/home/ricky/anaconda3/lib/python3.12/site-packages/ultralytics/engine/trainer.py\", line 611, in get_dataset\n",
      "    raise RuntimeError(emojis(f\"Dataset '{clean_url(self.args.data)}' error ❌ {e}\")) from e\n",
      "RuntimeError: Dataset 'ultralytics/cfg/datasets/RGBIR.yaml' error ❌ Dataset 'ultralytics/cfg/datasets/RGBIR.yaml' images not found, missing path '/home/ricky/.local/share/Trash/files/4ch-YOLOv8/ultralytics/cfg/datasets/datasets/RGBIR/images/rgb_val'\n",
      "Note dataset download directory is '/home/ricky/datasets'. You can update this in '/home/ricky/.config/Ultralytics/settings.json'\n",
      "Sentry is attempting to send 2 pending events\n",
      "Waiting up to 2 seconds\n",
      "Press Ctrl-C to quit\n"
     ]
    }
   ],
   "source": [
    "!yolo task=detect train model=model/yolov8x_4ch_pretrained.pt data=ultralytics/cfg/datasets/RGBIR.yaml workers=2 epochs=100 batch=8 cos_lr=True"
   ]
  },
  {
   "cell_type": "markdown",
   "id": "d734ce5d-855b-433d-a81e-c94704db97ee",
   "metadata": {},
   "source": [
    "# Validation"
   ]
  },
  {
   "cell_type": "code",
   "execution_count": 9,
   "id": "7c353eca-624e-49d9-adec-db86b3daef33",
   "metadata": {},
   "outputs": [
    {
     "name": "stdout",
     "output_type": "stream",
     "text": [
      "Traceback (most recent call last):\n",
      "  File \"/home/ricky/.local/share/Trash/files/4ch-YOLOv8/validate.py\", line 225, in <module>\n",
      "    run(**vars(opt))\n",
      "  File \"/home/ricky/.local/share/Trash/files/4ch-YOLOv8/validate.py\", line 121, in run\n",
      "    model = YOLO(weights)\n",
      "            ^^^^^^^^^^^^^\n",
      "  File \"/home/ricky/.local/share/Trash/files/4ch-YOLOv8/ultralytics/models/yolo/model.py\", line 79, in __init__\n",
      "    super().__init__(model=model, task=task, verbose=verbose)\n",
      "  File \"/home/ricky/.local/share/Trash/files/4ch-YOLOv8/ultralytics/engine/model.py\", line 151, in __init__\n",
      "    self._load(model, task=task)\n",
      "  File \"/home/ricky/.local/share/Trash/files/4ch-YOLOv8/ultralytics/engine/model.py\", line 295, in _load\n",
      "    self.model, self.ckpt = attempt_load_one_weight(weights)\n",
      "                            ^^^^^^^^^^^^^^^^^^^^^^^^^^^^^^^^\n",
      "  File \"/home/ricky/.local/share/Trash/files/4ch-YOLOv8/ultralytics/nn/tasks.py\", line 1540, in attempt_load_one_weight\n",
      "    ckpt, weight = torch_safe_load(weight)  # load ckpt\n",
      "                   ^^^^^^^^^^^^^^^^^^^^^^^\n",
      "  File \"/home/ricky/.local/share/Trash/files/4ch-YOLOv8/ultralytics/nn/tasks.py\", line 1444, in torch_safe_load\n",
      "    ckpt = torch.load(file, map_location=\"cpu\")\n",
      "           ^^^^^^^^^^^^^^^^^^^^^^^^^^^^^^^^^^^^\n",
      "  File \"/home/ricky/.local/share/Trash/files/4ch-YOLOv8/ultralytics/utils/patches.py\", line 117, in torch_load\n",
      "    return _torch_load(*args, **kwargs)\n",
      "           ^^^^^^^^^^^^^^^^^^^^^^^^^^^^\n",
      "  File \"/home/ricky/anaconda3/lib/python3.12/site-packages/torch/serialization.py\", line 998, in load\n",
      "    with _open_file_like(f, 'rb') as opened_file:\n",
      "         ^^^^^^^^^^^^^^^^^^^^^^^^\n",
      "  File \"/home/ricky/anaconda3/lib/python3.12/site-packages/torch/serialization.py\", line 445, in _open_file_like\n",
      "    return _open_file(name_or_buffer, mode)\n",
      "           ^^^^^^^^^^^^^^^^^^^^^^^^^^^^^^^^\n",
      "  File \"/home/ricky/anaconda3/lib/python3.12/site-packages/torch/serialization.py\", line 426, in __init__\n",
      "    super().__init__(open(name, mode))\n",
      "                     ^^^^^^^^^^^^^^^^\n",
      "FileNotFoundError: [Errno 2] No such file or directory: 'runs/detect/train_result_250625/weights/best.pt'\n"
     ]
    }
   ],
   "source": [
    "!python validate.py --weights runs/detect/train_result_250625/weights/best.pt --data ultralytics/cfg/datasets/RGBIR_valid.yaml --hyp runs/detect/train_result_250625/args.yaml --imgsz 640 --batch 1 --workers 0 --name valid_result"
   ]
  },
  {
   "cell_type": "markdown",
   "id": "5278d9c0-69ca-481c-a77c-170e59a0f2fd",
   "metadata": {},
   "source": [
    "# Prediction"
   ]
  },
  {
   "cell_type": "code",
   "execution_count": null,
   "id": "a1056166-95e1-4ce1-9229-55e1e7621919",
   "metadata": {},
   "outputs": [],
   "source": [
    "!python predict.py --weights pretrained/4ch-YOLOv8.pt --source_rgb datasets/images/rgb_val --source_ir datasets/images/thermal --project runs/predict --name 4ch-YOLOv8_pred --imgsz 640 --conf 0.4 --iou 0.5 --device cuda"
   ]
  },
  {
   "cell_type": "code",
   "execution_count": null,
   "id": "ba11aa1a-6e55-4e89-996d-428819098cf1",
   "metadata": {},
   "outputs": [],
   "source": []
  },
  {
   "cell_type": "code",
   "execution_count": null,
   "id": "cdbfac1c-d93a-4e93-bad2-9b134c355c34",
   "metadata": {},
   "outputs": [],
   "source": []
  },
  {
   "cell_type": "code",
   "execution_count": null,
   "id": "32d9e736-9b09-4d17-a7ed-f62f5c864a61",
   "metadata": {},
   "outputs": [],
   "source": []
  },
  {
   "cell_type": "code",
   "execution_count": null,
   "id": "21551359-fcaa-4afc-9ddc-3c022dbba49c",
   "metadata": {},
   "outputs": [],
   "source": []
  },
  {
   "cell_type": "code",
   "execution_count": null,
   "id": "04b680a1-605f-4a70-a898-127dfd914686",
   "metadata": {},
   "outputs": [],
   "source": []
  },
  {
   "cell_type": "code",
   "execution_count": null,
   "id": "3711a8aa-2a8a-4a3c-b1b0-02b3770f1547",
   "metadata": {},
   "outputs": [],
   "source": []
  },
  {
   "cell_type": "code",
   "execution_count": null,
   "id": "3d52fa95-ba6c-4bbb-b297-7d5c644f8a0a",
   "metadata": {},
   "outputs": [],
   "source": []
  },
  {
   "cell_type": "code",
   "execution_count": null,
   "id": "a4a202c8-6d33-47a9-9acc-e726b585a7a4",
   "metadata": {},
   "outputs": [],
   "source": []
  },
  {
   "cell_type": "code",
   "execution_count": null,
   "id": "aeed34cb-b3c0-4ac5-82ec-73b6134d5155",
   "metadata": {},
   "outputs": [],
   "source": []
  },
  {
   "cell_type": "code",
   "execution_count": null,
   "id": "c8065a29-6656-4cce-b72b-396035db3a4a",
   "metadata": {},
   "outputs": [],
   "source": []
  },
  {
   "cell_type": "code",
   "execution_count": null,
   "id": "8ece8af8-2757-4a36-87c5-ff74bf313732",
   "metadata": {},
   "outputs": [],
   "source": []
  },
  {
   "cell_type": "code",
   "execution_count": null,
   "id": "fe5ba8de-47a1-40cb-952f-d9bd72028dc7",
   "metadata": {},
   "outputs": [],
   "source": []
  },
  {
   "cell_type": "code",
   "execution_count": null,
   "id": "37859ecd-7854-4d38-a7f6-a73ebf8f2813",
   "metadata": {},
   "outputs": [],
   "source": []
  }
 ],
 "metadata": {
  "kernelspec": {
   "display_name": "Python 3 (ipykernel)",
   "language": "python",
   "name": "python3"
  },
  "language_info": {
   "codemirror_mode": {
    "name": "ipython",
    "version": 3
   },
   "file_extension": ".py",
   "mimetype": "text/x-python",
   "name": "python",
   "nbconvert_exporter": "python",
   "pygments_lexer": "ipython3",
   "version": "3.12.7"
  }
 },
 "nbformat": 4,
 "nbformat_minor": 5
}
