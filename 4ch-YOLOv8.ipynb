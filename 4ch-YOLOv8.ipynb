{
 "cells": [
  {
   "cell_type": "markdown",
   "id": "af9b1eff-7417-4090-976c-1eeb5c9c7ba2",
   "metadata": {},
   "source": [
    "[![Open In Colab](https://colab.research.google.com/assets/colab-badge.svg)](https://colab.research.google.com/github/scksh/4ch-YOLOv8/blob/main/4ch-YOLOv8.ipynb)"
   ]
  },
  {
   "cell_type": "markdown",
   "id": "6a45f61b-9ced-4b03-b1f9-8feadd84fec6",
   "metadata": {},
   "source": [
    "# Install"
   ]
  },
  {
   "cell_type": "code",
   "execution_count": 11,
   "id": "8ccb5338-4f47-4b18-a7e3-8cf572544f39",
   "metadata": {},
   "outputs": [
    {
     "name": "stdout",
     "output_type": "stream",
     "text": [
      "'4ch-YOLOv8'에 복제합니다...\n",
      "remote: Enumerating objects: 1741, done.\u001b[K\n",
      "remote: Counting objects: 100% (16/16), done.\u001b[K\n",
      "remote: Compressing objects: 100% (13/13), done.\u001b[K\n",
      "remote: Total 1741 (delta 6), reused 8 (delta 3), pack-reused 1725 (from 1)\u001b[K\n",
      "오브젝트를 받는 중: 100% (1741/1741), 39.13 MiB | 10.97 MiB/s, 완료.\n",
      "델타를 알아내는 중: 100% (198/198), 완료.\n"
     ]
    }
   ],
   "source": [
    "!git clone https://github.com/scksh/4ch-YOLOv8"
   ]
  },
  {
   "cell_type": "code",
   "execution_count": 12,
   "id": "d81fd7da-b45f-4e90-aed8-5ae44c0be7d1",
   "metadata": {},
   "outputs": [],
   "source": [
    "import os\n",
    "os.chdir('4ch-YOLOv8')"
   ]
  },
  {
   "cell_type": "code",
   "execution_count": 13,
   "id": "27e41068-2cd9-46a5-9ec7-2bfeb45deb6d",
   "metadata": {},
   "outputs": [
    {
     "name": "stdout",
     "output_type": "stream",
     "text": [
      "Requirement already satisfied: huggingface-hub==0.33.0 in /home/ricky/anaconda3/envs/yolo/lib/python3.10/site-packages (from -r requirements.txt (line 1)) (0.33.0)\n",
      "Requirement already satisfied: opencv-python==4.11.0.86 in /home/ricky/anaconda3/envs/yolo/lib/python3.10/site-packages (from -r requirements.txt (line 2)) (4.11.0.86)\n",
      "Requirement already satisfied: opencv-python-headless==4.10.0.84 in /home/ricky/anaconda3/envs/yolo/lib/python3.10/site-packages (from -r requirements.txt (line 3)) (4.10.0.84)\n",
      "Requirement already satisfied: filelock in /home/ricky/anaconda3/envs/yolo/lib/python3.10/site-packages (from huggingface-hub==0.33.0->-r requirements.txt (line 1)) (3.13.1)\n",
      "Requirement already satisfied: fsspec>=2023.5.0 in /home/ricky/anaconda3/envs/yolo/lib/python3.10/site-packages (from huggingface-hub==0.33.0->-r requirements.txt (line 1)) (2024.3.1)\n",
      "Requirement already satisfied: packaging>=20.9 in /home/ricky/anaconda3/envs/yolo/lib/python3.10/site-packages (from huggingface-hub==0.33.0->-r requirements.txt (line 1)) (24.0)\n",
      "Requirement already satisfied: pyyaml>=5.1 in /home/ricky/anaconda3/envs/yolo/lib/python3.10/site-packages (from huggingface-hub==0.33.0->-r requirements.txt (line 1)) (6.0.1)\n",
      "Requirement already satisfied: requests in /home/ricky/anaconda3/envs/yolo/lib/python3.10/site-packages (from huggingface-hub==0.33.0->-r requirements.txt (line 1)) (2.31.0)\n",
      "Requirement already satisfied: tqdm>=4.42.1 in /home/ricky/anaconda3/envs/yolo/lib/python3.10/site-packages (from huggingface-hub==0.33.0->-r requirements.txt (line 1)) (4.66.4)\n",
      "Requirement already satisfied: typing-extensions>=3.7.4.3 in /home/ricky/anaconda3/envs/yolo/lib/python3.10/site-packages (from huggingface-hub==0.33.0->-r requirements.txt (line 1)) (4.11.0)\n",
      "Requirement already satisfied: hf-xet<2.0.0,>=1.1.2 in /home/ricky/anaconda3/envs/yolo/lib/python3.10/site-packages (from huggingface-hub==0.33.0->-r requirements.txt (line 1)) (1.1.5)\n",
      "Requirement already satisfied: numpy>=1.21.2 in /home/ricky/anaconda3/envs/yolo/lib/python3.10/site-packages (from opencv-python==4.11.0.86->-r requirements.txt (line 2)) (1.24.4)\n",
      "Requirement already satisfied: charset-normalizer<4,>=2 in /home/ricky/anaconda3/envs/yolo/lib/python3.10/site-packages (from requests->huggingface-hub==0.33.0->-r requirements.txt (line 1)) (3.3.2)\n",
      "Requirement already satisfied: idna<4,>=2.5 in /home/ricky/anaconda3/envs/yolo/lib/python3.10/site-packages (from requests->huggingface-hub==0.33.0->-r requirements.txt (line 1)) (3.7)\n",
      "Requirement already satisfied: urllib3<3,>=1.21.1 in /home/ricky/anaconda3/envs/yolo/lib/python3.10/site-packages (from requests->huggingface-hub==0.33.0->-r requirements.txt (line 1)) (2.2.1)\n",
      "Requirement already satisfied: certifi>=2017.4.17 in /home/ricky/anaconda3/envs/yolo/lib/python3.10/site-packages (from requests->huggingface-hub==0.33.0->-r requirements.txt (line 1)) (2024.2.2)\n"
     ]
    }
   ],
   "source": [
    "!pip install -r requirements.txt"
   ]
  },
  {
   "cell_type": "code",
   "execution_count": 14,
   "id": "ffe59437-649e-4090-b9e7-672fd4719909",
   "metadata": {},
   "outputs": [
    {
     "name": "stdout",
     "output_type": "stream",
     "text": [
      "Looking in indexes: https://download.pytorch.org/whl/cu126\n",
      "Requirement already satisfied: torch==2.7.0 in /home/ricky/anaconda3/envs/yolo/lib/python3.10/site-packages (2.7.0+cu118)\n",
      "Requirement already satisfied: torchvision==0.22.0 in /home/ricky/anaconda3/envs/yolo/lib/python3.10/site-packages (0.22.0+cu118)\n",
      "Requirement already satisfied: torchaudio==2.7.0 in /home/ricky/anaconda3/envs/yolo/lib/python3.10/site-packages (2.7.0+cu118)\n",
      "Requirement already satisfied: filelock in /home/ricky/anaconda3/envs/yolo/lib/python3.10/site-packages (from torch==2.7.0) (3.13.1)\n",
      "Requirement already satisfied: typing-extensions>=4.10.0 in /home/ricky/anaconda3/envs/yolo/lib/python3.10/site-packages (from torch==2.7.0) (4.11.0)\n",
      "Requirement already satisfied: sympy>=1.13.3 in /home/ricky/anaconda3/envs/yolo/lib/python3.10/site-packages (from torch==2.7.0) (1.13.3)\n",
      "Requirement already satisfied: networkx in /home/ricky/anaconda3/envs/yolo/lib/python3.10/site-packages (from torch==2.7.0) (3.3)\n",
      "Requirement already satisfied: jinja2 in /home/ricky/anaconda3/envs/yolo/lib/python3.10/site-packages (from torch==2.7.0) (3.1.4)\n",
      "Requirement already satisfied: fsspec in /home/ricky/anaconda3/envs/yolo/lib/python3.10/site-packages (from torch==2.7.0) (2024.3.1)\n",
      "Requirement already satisfied: nvidia-cuda-nvrtc-cu11==11.8.89 in /home/ricky/anaconda3/envs/yolo/lib/python3.10/site-packages (from torch==2.7.0) (11.8.89)\n",
      "Requirement already satisfied: nvidia-cuda-runtime-cu11==11.8.89 in /home/ricky/anaconda3/envs/yolo/lib/python3.10/site-packages (from torch==2.7.0) (11.8.89)\n",
      "Requirement already satisfied: nvidia-cuda-cupti-cu11==11.8.87 in /home/ricky/anaconda3/envs/yolo/lib/python3.10/site-packages (from torch==2.7.0) (11.8.87)\n",
      "Requirement already satisfied: nvidia-cudnn-cu11==9.1.0.70 in /home/ricky/anaconda3/envs/yolo/lib/python3.10/site-packages (from torch==2.7.0) (9.1.0.70)\n",
      "Requirement already satisfied: nvidia-cublas-cu11==11.11.3.6 in /home/ricky/anaconda3/envs/yolo/lib/python3.10/site-packages (from torch==2.7.0) (11.11.3.6)\n",
      "Requirement already satisfied: nvidia-cufft-cu11==10.9.0.58 in /home/ricky/anaconda3/envs/yolo/lib/python3.10/site-packages (from torch==2.7.0) (10.9.0.58)\n",
      "Requirement already satisfied: nvidia-curand-cu11==10.3.0.86 in /home/ricky/anaconda3/envs/yolo/lib/python3.10/site-packages (from torch==2.7.0) (10.3.0.86)\n",
      "Requirement already satisfied: nvidia-cusolver-cu11==11.4.1.48 in /home/ricky/anaconda3/envs/yolo/lib/python3.10/site-packages (from torch==2.7.0) (11.4.1.48)\n",
      "Requirement already satisfied: nvidia-cusparse-cu11==11.7.5.86 in /home/ricky/anaconda3/envs/yolo/lib/python3.10/site-packages (from torch==2.7.0) (11.7.5.86)\n",
      "Requirement already satisfied: nvidia-nccl-cu11==2.21.5 in /home/ricky/anaconda3/envs/yolo/lib/python3.10/site-packages (from torch==2.7.0) (2.21.5)\n",
      "Requirement already satisfied: nvidia-nvtx-cu11==11.8.86 in /home/ricky/anaconda3/envs/yolo/lib/python3.10/site-packages (from torch==2.7.0) (11.8.86)\n",
      "Requirement already satisfied: triton==3.3.0 in /home/ricky/anaconda3/envs/yolo/lib/python3.10/site-packages (from torch==2.7.0) (3.3.0)\n",
      "Requirement already satisfied: numpy in /home/ricky/anaconda3/envs/yolo/lib/python3.10/site-packages (from torchvision==0.22.0) (1.24.4)\n",
      "Requirement already satisfied: pillow!=8.3.*,>=5.3.0 in /home/ricky/anaconda3/envs/yolo/lib/python3.10/site-packages (from torchvision==0.22.0) (10.3.0)\n",
      "Requirement already satisfied: setuptools>=40.8.0 in /home/ricky/anaconda3/envs/yolo/lib/python3.10/site-packages (from triton==3.3.0->torch==2.7.0) (78.1.1)\n",
      "Requirement already satisfied: mpmath<1.4,>=1.1.0 in /home/ricky/anaconda3/envs/yolo/lib/python3.10/site-packages (from sympy>=1.13.3->torch==2.7.0) (1.3.0)\n",
      "Requirement already satisfied: MarkupSafe>=2.0 in /home/ricky/anaconda3/envs/yolo/lib/python3.10/site-packages (from jinja2->torch==2.7.0) (2.1.5)\n"
     ]
    }
   ],
   "source": [
    "!pip install torch==2.7.0 torchvision==0.22.0 torchaudio==2.7.0 --index-url https://download.pytorch.org/whl/cu126"
   ]
  },
  {
   "cell_type": "code",
   "execution_count": 15,
   "id": "a9b0c40f-ac15-4725-868e-ddff9461a34c",
   "metadata": {},
   "outputs": [
    {
     "name": "stdout",
     "output_type": "stream",
     "text": [
      "Obtaining file:///home/ricky/4ch-YOLO/ultralytics-main/4ch-YOLOv8/4ch-YOLOv8\n",
      "  Installing build dependencies ... \u001b[?25done\n",
      "\u001b[?25h  Checking if build backend supports build_editable ... \u001b[?25ldone\n",
      "\u001b[?25h  Getting requirements to build editable ... \u001b[?25ldone\n",
      "\u001b[?25h  Preparing editable metadata (pyproject.toml) ... \u001b[?25ldone\n",
      "\u001b[?25hRequirement already satisfied: numpy>=1.23.0 in /home/ricky/anaconda3/envs/yolo/lib/python3.10/site-packages (from ultralytics==8.3.146) (1.24.4)\n",
      "Requirement already satisfied: matplotlib>=3.3.0 in /home/ricky/anaconda3/envs/yolo/lib/python3.10/site-packages (from ultralytics==8.3.146) (3.8.4)\n",
      "Requirement already satisfied: opencv-python>=4.6.0 in /home/ricky/anaconda3/envs/yolo/lib/python3.10/site-packages (from ultralytics==8.3.146) (4.11.0.86)\n",
      "Requirement already satisfied: pillow>=7.1.2 in /home/ricky/anaconda3/envs/yolo/lib/python3.10/site-packages (from ultralytics==8.3.146) (10.3.0)\n",
      "Requirement already satisfied: pyyaml>=5.3.1 in /home/ricky/anaconda3/envs/yolo/lib/python3.10/site-packages (from ultralytics==8.3.146) (6.0.1)\n",
      "Requirement already satisfied: requests>=2.23.0 in /home/ricky/anaconda3/envs/yolo/lib/python3.10/site-packages (from ultralytics==8.3.146) (2.31.0)\n",
      "Requirement already satisfied: scipy>=1.4.1 in /home/ricky/anaconda3/envs/yolo/lib/python3.10/site-packages (from ultralytics==8.3.146) (1.10.1)\n",
      "Requirement already satisfied: torch>=1.8.0 in /home/ricky/anaconda3/envs/yolo/lib/python3.10/site-packages (from ultralytics==8.3.146) (2.7.0+cu118)\n",
      "Requirement already satisfied: torchvision>=0.9.0 in /home/ricky/anaconda3/envs/yolo/lib/python3.10/site-packages (from ultralytics==8.3.146) (0.22.0+cu118)\n",
      "Requirement already satisfied: tqdm>=4.64.0 in /home/ricky/anaconda3/envs/yolo/lib/python3.10/site-packages (from ultralytics==8.3.146) (4.66.4)\n",
      "Requirement already satisfied: psutil in /home/ricky/anaconda3/envs/yolo/lib/python3.10/site-packages (from ultralytics==8.3.146) (5.9.8)\n",
      "Requirement already satisfied: py-cpuinfo in /home/ricky/anaconda3/envs/yolo/lib/python3.10/site-packages (from ultralytics==8.3.146) (9.0.0)\n",
      "Requirement already satisfied: pandas>=1.1.4 in /home/ricky/anaconda3/envs/yolo/lib/python3.10/site-packages (from ultralytics==8.3.146) (2.3.0)\n",
      "Requirement already satisfied: ultralytics-thop>=2.0.0 in /home/ricky/anaconda3/envs/yolo/lib/python3.10/site-packages (from ultralytics==8.3.146) (2.0.14)\n",
      "Requirement already satisfied: contourpy>=1.0.1 in /home/ricky/anaconda3/envs/yolo/lib/python3.10/site-packages (from matplotlib>=3.3.0->ultralytics==8.3.146) (1.2.1)\n",
      "Requirement already satisfied: cycler>=0.10 in /home/ricky/anaconda3/envs/yolo/lib/python3.10/site-packages (from matplotlib>=3.3.0->ultralytics==8.3.146) (0.12.1)\n",
      "Requirement already satisfied: fonttools>=4.22.0 in /home/ricky/anaconda3/envs/yolo/lib/python3.10/site-packages (from matplotlib>=3.3.0->ultralytics==8.3.146) (4.51.0)\n",
      "Requirement already satisfied: kiwisolver>=1.3.1 in /home/ricky/anaconda3/envs/yolo/lib/python3.10/site-packages (from matplotlib>=3.3.0->ultralytics==8.3.146) (1.4.5)\n",
      "Requirement already satisfied: packaging>=20.0 in /home/ricky/anaconda3/envs/yolo/lib/python3.10/site-packages (from matplotlib>=3.3.0->ultralytics==8.3.146) (24.0)\n",
      "Requirement already satisfied: pyparsing>=2.3.1 in /home/ricky/anaconda3/envs/yolo/lib/python3.10/site-packages (from matplotlib>=3.3.0->ultralytics==8.3.146) (3.1.2)\n",
      "Requirement already satisfied: python-dateutil>=2.7 in /home/ricky/anaconda3/envs/yolo/lib/python3.10/site-packages (from matplotlib>=3.3.0->ultralytics==8.3.146) (2.9.0)\n",
      "Requirement already satisfied: pytz>=2020.1 in /home/ricky/anaconda3/envs/yolo/lib/python3.10/site-packages (from pandas>=1.1.4->ultralytics==8.3.146) (2025.2)\n",
      "Requirement already satisfied: tzdata>=2022.7 in /home/ricky/anaconda3/envs/yolo/lib/python3.10/site-packages (from pandas>=1.1.4->ultralytics==8.3.146) (2025.2)\n",
      "Requirement already satisfied: six>=1.5 in /home/ricky/anaconda3/envs/yolo/lib/python3.10/site-packages (from python-dateutil>=2.7->matplotlib>=3.3.0->ultralytics==8.3.146) (1.16.0)\n",
      "Requirement already satisfied: charset-normalizer<4,>=2 in /home/ricky/anaconda3/envs/yolo/lib/python3.10/site-packages (from requests>=2.23.0->ultralytics==8.3.146) (3.3.2)\n",
      "Requirement already satisfied: idna<4,>=2.5 in /home/ricky/anaconda3/envs/yolo/lib/python3.10/site-packages (from requests>=2.23.0->ultralytics==8.3.146) (3.7)\n",
      "Requirement already satisfied: urllib3<3,>=1.21.1 in /home/ricky/anaconda3/envs/yolo/lib/python3.10/site-packages (from requests>=2.23.0->ultralytics==8.3.146) (2.2.1)\n",
      "Requirement already satisfied: certifi>=2017.4.17 in /home/ricky/anaconda3/envs/yolo/lib/python3.10/site-packages (from requests>=2.23.0->ultralytics==8.3.146) (2024.2.2)\n",
      "Requirement already satisfied: filelock in /home/ricky/anaconda3/envs/yolo/lib/python3.10/site-packages (from torch>=1.8.0->ultralytics==8.3.146) (3.13.1)\n",
      "Requirement already satisfied: typing-extensions>=4.10.0 in /home/ricky/anaconda3/envs/yolo/lib/python3.10/site-packages (from torch>=1.8.0->ultralytics==8.3.146) (4.11.0)\n",
      "Requirement already satisfied: sympy>=1.13.3 in /home/ricky/anaconda3/envs/yolo/lib/python3.10/site-packages (from torch>=1.8.0->ultralytics==8.3.146) (1.13.3)\n",
      "Requirement already satisfied: networkx in /home/ricky/anaconda3/envs/yolo/lib/python3.10/site-packages (from torch>=1.8.0->ultralytics==8.3.146) (3.3)\n",
      "Requirement already satisfied: jinja2 in /home/ricky/anaconda3/envs/yolo/lib/python3.10/site-packages (from torch>=1.8.0->ultralytics==8.3.146) (3.1.4)\n",
      "Requirement already satisfied: fsspec in /home/ricky/anaconda3/envs/yolo/lib/python3.10/site-packages (from torch>=1.8.0->ultralytics==8.3.146) (2024.3.1)\n",
      "Requirement already satisfied: nvidia-cuda-nvrtc-cu11==11.8.89 in /home/ricky/anaconda3/envs/yolo/lib/python3.10/site-packages (from torch>=1.8.0->ultralytics==8.3.146) (11.8.89)\n",
      "Requirement already satisfied: nvidia-cuda-runtime-cu11==11.8.89 in /home/ricky/anaconda3/envs/yolo/lib/python3.10/site-packages (from torch>=1.8.0->ultralytics==8.3.146) (11.8.89)\n",
      "Requirement already satisfied: nvidia-cuda-cupti-cu11==11.8.87 in /home/ricky/anaconda3/envs/yolo/lib/python3.10/site-packages (from torch>=1.8.0->ultralytics==8.3.146) (11.8.87)\n",
      "Requirement already satisfied: nvidia-cudnn-cu11==9.1.0.70 in /home/ricky/anaconda3/envs/yolo/lib/python3.10/site-packages (from torch>=1.8.0->ultralytics==8.3.146) (9.1.0.70)\n",
      "Requirement already satisfied: nvidia-cublas-cu11==11.11.3.6 in /home/ricky/anaconda3/envs/yolo/lib/python3.10/site-packages (from torch>=1.8.0->ultralytics==8.3.146) (11.11.3.6)\n",
      "Requirement already satisfied: nvidia-cufft-cu11==10.9.0.58 in /home/ricky/anaconda3/envs/yolo/lib/python3.10/site-packages (from torch>=1.8.0->ultralytics==8.3.146) (10.9.0.58)\n",
      "Requirement already satisfied: nvidia-curand-cu11==10.3.0.86 in /home/ricky/anaconda3/envs/yolo/lib/python3.10/site-packages (from torch>=1.8.0->ultralytics==8.3.146) (10.3.0.86)\n",
      "Requirement already satisfied: nvidia-cusolver-cu11==11.4.1.48 in /home/ricky/anaconda3/envs/yolo/lib/python3.10/site-packages (from torch>=1.8.0->ultralytics==8.3.146) (11.4.1.48)\n",
      "Requirement already satisfied: nvidia-cusparse-cu11==11.7.5.86 in /home/ricky/anaconda3/envs/yolo/lib/python3.10/site-packages (from torch>=1.8.0->ultralytics==8.3.146) (11.7.5.86)\n",
      "Requirement already satisfied: nvidia-nccl-cu11==2.21.5 in /home/ricky/anaconda3/envs/yolo/lib/python3.10/site-packages (from torch>=1.8.0->ultralytics==8.3.146) (2.21.5)\n",
      "Requirement already satisfied: nvidia-nvtx-cu11==11.8.86 in /home/ricky/anaconda3/envs/yolo/lib/python3.10/site-packages (from torch>=1.8.0->ultralytics==8.3.146) (11.8.86)\n",
      "Requirement already satisfied: triton==3.3.0 in /home/ricky/anaconda3/envs/yolo/lib/python3.10/site-packages (from torch>=1.8.0->ultralytics==8.3.146) (3.3.0)\n",
      "Requirement already satisfied: setuptools>=40.8.0 in /home/ricky/anaconda3/envs/yolo/lib/python3.10/site-packages (from triton==3.3.0->torch>=1.8.0->ultralytics==8.3.146) (78.1.1)\n",
      "Requirement already satisfied: mpmath<1.4,>=1.1.0 in /home/ricky/anaconda3/envs/yolo/lib/python3.10/site-packages (from sympy>=1.13.3->torch>=1.8.0->ultralytics==8.3.146) (1.3.0)\n",
      "Requirement already satisfied: MarkupSafe>=2.0 in /home/ricky/anaconda3/envs/yolo/lib/python3.10/site-packages (from jinja2->torch>=1.8.0->ultralytics==8.3.146) (2.1.5)\n",
      "Building wheels for collected packages: ultralytics\n",
      "  Building editable for ultralytics (pyproject.toml) ... \u001b[?25ldone\n",
      "\u001b[?25h  Created wheel for ultralytics: filename=ultralytics-8.3.146-0.editable-py3-none-any.whl size=18570 sha256=c3d1f2d46798593ad37817cd4edfa2e02babb3ca78ea0c4e4c2e12111d1d7582\n",
      "  Stored in directory: /tmp/pip-ephem-wheel-cache-xa_vp4cu/wheels/93/18/cf/ded97dd9ffa9aa6893e34808151c016501b4a934665c7b711f\n",
      "Successfully built ultralytics\n",
      "Installing collected packages: ultralytics\n",
      "  Attempting uninstall: ultralytics\n",
      "    Found existing installation: ultralytics 8.3.146\n",
      "    Uninstalling ultralytics-8.3.146:\n",
      "      Successfully uninstalled ultralytics-8.3.146\n",
      "Successfully installed ultralytics-8.3.146\n"
     ]
    }
   ],
   "source": [
    "!pip install -e ../4ch-YOLOv8"
   ]
  },
  {
   "cell_type": "markdown",
   "id": "e4d629fc-85fb-4be2-8508-5e80d938cb4c",
   "metadata": {},
   "source": [
    "# Dataset"
   ]
  },
  {
   "cell_type": "code",
   "execution_count": 16,
   "id": "26fd01f0-5b23-4bd9-bc02-d6631bbcb50f",
   "metadata": {},
   "outputs": [],
   "source": [
    "from huggingface_hub import hf_hub_download\n",
    "import zipfile\n",
    "\n",
    "# Download dataset\n",
    "zip_path = hf_hub_download(\n",
    "    repo_id=\"SUMMERZETT/RGBIR\",\n",
    "    filename=\"RGBIR.zip\",\n",
    "    repo_type=\"dataset\"\n",
    ")\n",
    "\n",
    "with zipfile.ZipFile(zip_path, 'r') as zip_ref:\n",
    "    zip_ref.extractall(\"./datasets\")"
   ]
  },
  {
   "cell_type": "markdown",
   "id": "5c8548f3-3ee2-4b41-9f1a-1230e85ace75",
   "metadata": {},
   "source": [
    "# Initial Weight"
   ]
  },
  {
   "cell_type": "code",
   "execution_count": 17,
   "id": "a61535d6-fa62-4da4-b35c-fe7775849374",
   "metadata": {},
   "outputs": [],
   "source": [
    "from huggingface_hub import hf_hub_download\n",
    "\n",
    "# Download pretrained model\n",
    "model_path = hf_hub_download(\n",
    "    repo_id=\"SUMMERZETT/YOLOv8_pretrained\",\n",
    "    filename=\"yolov8x_4ch_pretrained.pt\",\n",
    "    repo_type=\"model\",\n",
    "    local_dir=\"./model\",\n",
    "    local_dir_use_symlinks=False\n",
    ")"
   ]
  },
  {
   "cell_type": "markdown",
   "id": "a19f284d-c5b6-4931-b33a-65e2f3140acd",
   "metadata": {},
   "source": [
    "# Pre-trained model"
   ]
  },
  {
   "cell_type": "code",
   "execution_count": 18,
   "id": "724288a0-2448-407a-8ca3-98dac9635021",
   "metadata": {},
   "outputs": [],
   "source": [
    "from huggingface_hub import hf_hub_download\n",
    "\n",
    "# Download pretrained model\n",
    "model_path = hf_hub_download(\n",
    "    repo_id=\"SUMMERZETT/4ch-YOLOv8\",\n",
    "    filename=\"4ch-YOLOv8.pt\",\n",
    "    repo_type=\"model\",\n",
    "    local_dir=\"./pretrained\",\n",
    "    local_dir_use_symlinks=False\n",
    ")"
   ]
  },
  {
   "cell_type": "markdown",
   "id": "9843afcf-a22e-4043-b004-3263301d64ca",
   "metadata": {},
   "source": [
    "# Training"
   ]
  },
  {
   "cell_type": "code",
   "execution_count": 19,
   "id": "9af1bd43-e5d4-4393-8012-364055b9ebe1",
   "metadata": {},
   "outputs": [],
   "source": [
    "!export KMP_DUPLICATE_LIB_OK=TRUE"
   ]
  },
  {
   "cell_type": "code",
   "execution_count": 20,
   "id": "93bab872-1b20-4d7e-84df-f8227fb6c3a4",
   "metadata": {},
   "outputs": [
    {
     "name": "stdout",
     "output_type": "stream",
     "text": [
      "New https://pypi.org/project/ultralytics/8.3.170 available 😃 Update with 'pip install -U ultralytics'\n",
      "Ultralytics 8.3.146 🚀 Python-3.10.18 torch-2.7.0+cu118 CPU (Intel Core(TM) i9-10900 2.80GHz)\n",
      "\u001b[34m\u001b[1mengine/trainer: \u001b[0magnostic_nms=False, amp=True, augment=False, auto_augment=randaugment, batch=8, bgr=0.0, box=7.5, cache=False, cfg=None, classes=None, close_mosaic=10, cls=0.5, conf=None, copy_paste=0.0, copy_paste_mode=flip, cos_lr=True, cutmix=0.0, data=ultralytics/cfg/datasets/RGBIR.yaml, degrees=0.0, deterministic=True, device=cpu, dfl=1.5, dnn=False, dropout=0.0, dynamic=False, embed=None, epochs=1, erasing=0.4, exist_ok=False, fliplr=0.5, flipud=0.0, format=torchscript, fraction=1.0, freeze=None, half=False, hsv_h=0.015, hsv_s=0.7, hsv_v=0.4, imgsz=640, int8=False, iou=0.7, keras=False, kobj=1.0, line_width=None, lr0=0.01, lrf=0.01, mask_ratio=4, max_det=300, mixup=0.0, mode=train, model=model/yolov8x_4ch_pretrained.pt, momentum=0.937, mosaic=1.0, multi_scale=False, name=train, nbs=64, nms=False, opset=None, optimize=False, optimizer=auto, overlap_mask=True, patience=100, perspective=0.0, plots=True, pose=12.0, pretrained=True, profile=False, project=None, rect=False, resume=False, retina_masks=False, save=True, save_conf=False, save_crop=False, save_dir=runs/detect/train, save_frames=False, save_json=False, save_period=-1, save_txt=False, scale=0.5, seed=0, shear=0.0, show=False, show_boxes=True, show_conf=True, show_labels=True, simplify=True, single_cls=False, source=None, split=val, stream_buffer=False, task=detect, time=None, tracker=botsort.yaml, translate=0.1, val=True, verbose=True, vid_stride=1, visualize=False, warmup_bias_lr=0.1, warmup_epochs=3.0, warmup_momentum=0.8, weight_decay=0.0005, workers=2, workspace=None\n",
      "\n",
      "                   from  n    params  module                                       arguments                     \n",
      "  0                  -1  1      3040  ultralytics.nn.modules.conv.Conv             [4, 80, 3, 2]                 \n",
      "  1                  -1  1    115520  ultralytics.nn.modules.conv.Conv             [80, 160, 3, 2]               \n",
      "  2                  -1  3    436800  ultralytics.nn.modules.block.C2f             [160, 160, 3, True]           \n",
      "  3                  -1  1    461440  ultralytics.nn.modules.conv.Conv             [160, 320, 3, 2]              \n",
      "  4                  -1  6   3281920  ultralytics.nn.modules.block.C2f             [320, 320, 6, True]           \n",
      "  5                  -1  1   1844480  ultralytics.nn.modules.conv.Conv             [320, 640, 3, 2]              \n",
      "  6                  -1  6  13117440  ultralytics.nn.modules.block.C2f             [640, 640, 6, True]           \n",
      "  7                  -1  1   3687680  ultralytics.nn.modules.conv.Conv             [640, 640, 3, 2]              \n",
      "  8                  -1  3   6969600  ultralytics.nn.modules.block.C2f             [640, 640, 3, True]           \n",
      "  9                  -1  1   1025920  ultralytics.nn.modules.block.SPPF            [640, 640, 5]                 \n",
      " 10                  -1  1         0  torch.nn.modules.upsampling.Upsample         [None, 2, 'nearest']          \n",
      " 11             [-1, 6]  1         0  ultralytics.nn.modules.conv.Concat           [1]                           \n",
      " 12                  -1  3   7379200  ultralytics.nn.modules.block.C2f             [1280, 640, 3]                \n",
      " 13                  -1  1         0  torch.nn.modules.upsampling.Upsample         [None, 2, 'nearest']          \n",
      " 14             [-1, 4]  1         0  ultralytics.nn.modules.conv.Concat           [1]                           \n",
      " 15                  -1  3   1948800  ultralytics.nn.modules.block.C2f             [960, 320, 3]                 \n",
      " 16                  -1  1    922240  ultralytics.nn.modules.conv.Conv             [320, 320, 3, 2]              \n",
      " 17            [-1, 12]  1         0  ultralytics.nn.modules.conv.Concat           [1]                           \n",
      " 18                  -1  3   7174400  ultralytics.nn.modules.block.C2f             [960, 640, 3]                 \n",
      " 19                  -1  1   3687680  ultralytics.nn.modules.conv.Conv             [640, 640, 3, 2]              \n",
      " 20             [-1, 9]  1         0  ultralytics.nn.modules.conv.Concat           [1]                           \n",
      " 21                  -1  3   7379200  ultralytics.nn.modules.block.C2f             [1280, 640, 3]                \n",
      " 22        [15, 18, 21]  1   8719894  ultralytics.nn.modules.head.Detect           [2, [320, 640, 640]]          \n",
      "YOLOv8x summary: 209 layers, 68,155,254 parameters, 68,155,238 gradients, 258.3 GFLOPs\n",
      "\n",
      "Transferred 595/595 items from pretrained weights\n",
      "Freezing layer 'model.22.dfl.conv.weight'\n",
      "\u001b[34m\u001b[1mtrain: \u001b[0mFast image access ✅ (ping: 0.0±0.0 ms, read: 4997.2±2025.7 MB/s, size: 471.9 KB)\n",
      "\u001b[34m\u001b[1mtrain: \u001b[0mScanning /home/ricky/4ch-YOLO/ultralytics-main/4ch-YOLOv8/4ch-YOLOv8/data\u001b[0m\n",
      "\u001b[34m\u001b[1mtrain: \u001b[0m/home/ricky/4ch-YOLO/ultralytics-main/4ch-YOLOv8/4ch-YOLOv8/datasets/RGBIR/images/rgb/000000210537_jpg.rf.856082f2c2a5dd2041ead54762b7e945.jpg: 1 duplicate labels removed\n",
      "\u001b[34m\u001b[1mtrain: \u001b[0m/home/ricky/4ch-YOLO/ultralytics-main/4ch-YOLOv8/4ch-YOLOv8/datasets/RGBIR/images/rgb/000000335767_jpg.rf.e26dea7f8e00d43f5fced7640407dd3e.jpg: 1 duplicate labels removed\n",
      "\u001b[34m\u001b[1mtrain: \u001b[0mNew cache created: /home/ricky/4ch-YOLO/ultralytics-main/4ch-YOLOv8/4ch-YOLOv8/datasets/RGBIR/labels/rgb.cache\n",
      "WARNING ⚠️ Box and segment counts should be equal, but got len(segments) = 1562, len(boxes) = 12642. To resolve this only boxes will be used and all segments will be removed. To avoid this please supply either a detect or segment dataset, not a detect-segment mixed dataset.\n",
      "샘플 RGB 이미지 경로: /home/ricky/4ch-YOLO/ultralytics-main/4ch-YOLOv8/4ch-YOLOv8/datasets/RGBIR/images/rgb/000000000077_jpg.rf.19982cde5db489487c98714c37fed1a6.jpg\n",
      "매칭된 열화상 이미지 경로: /home/ricky/4ch-YOLO/ultralytics-main/4ch-YOLOv8/4ch-YOLOv8/datasets/RGBIR/images/thermal/000000000077_jpg.rf.19982cde5db489487c98714c37fed1a6.jpg\n",
      "/home/ricky/anaconda3/envs/yolo/lib/python3.10/site-packages/torch/cuda/__init__.py:789: UserWarning: Can't initialize NVML\n",
      "  warnings.warn(\"Can't initialize NVML\")\n",
      "/home/ricky/anaconda3/envs/yolo/lib/python3.10/site-packages/torch/utils/data/dataloader.py:665: UserWarning: 'pin_memory' argument is set as true but no accelerator is found, then device pinned memory won't be used.\n",
      "  warnings.warn(warn_msg)\n",
      "\u001b[34m\u001b[1mval: \u001b[0mFast image access ✅ (ping: 0.0±0.0 ms, read: 5295.3±2077.1 MB/s, size: 189.2 KB)\n",
      "\u001b[34m\u001b[1mval: \u001b[0mScanning /home/ricky/4ch-YOLO/ultralytics-main/4ch-YOLOv8/4ch-YOLOv8/datase\u001b[0m\n",
      "\u001b[34m\u001b[1mval: \u001b[0mNew cache created: /home/ricky/4ch-YOLO/ultralytics-main/4ch-YOLOv8/4ch-YOLOv8/datasets/RGBIR/labels/rgb_val.cache\n",
      "WARNING ⚠️ Box and segment counts should be equal, but got len(segments) = 52, len(boxes) = 292. To resolve this only boxes will be used and all segments will be removed. To avoid this please supply either a detect or segment dataset, not a detect-segment mixed dataset.\n",
      "샘플 RGB 이미지 경로: /home/ricky/4ch-YOLO/ultralytics-main/4ch-YOLOv8/4ch-YOLOv8/datasets/RGBIR/images/rgb_val/A05_H44_C006_D_211029_5005_30S_000028.438.jpg\n",
      "매칭된 열화상 이미지 경로: /home/ricky/4ch-YOLO/ultralytics-main/4ch-YOLOv8/4ch-YOLOv8/datasets/RGBIR/images/thermal/A05_H44_C006_D_211029_5005_30S_000028.438.jpg\n",
      "/home/ricky/anaconda3/envs/yolo/lib/python3.10/site-packages/torch/cuda/__init__.py:789: UserWarning: Can't initialize NVML\n",
      "  warnings.warn(\"Can't initialize NVML\")\n",
      "/home/ricky/anaconda3/envs/yolo/lib/python3.10/site-packages/torch/utils/data/dataloader.py:665: UserWarning: 'pin_memory' argument is set as true but no accelerator is found, then device pinned memory won't be used.\n",
      "  warnings.warn(warn_msg)\n",
      "Plotting labels to runs/detect/train/labels.jpg... \n",
      "\u001b[34m\u001b[1moptimizer:\u001b[0m 'optimizer=auto' found, ignoring 'lr0=0.01' and 'momentum=0.937' and determining best 'optimizer', 'lr0' and 'momentum' automatically... \n",
      "\u001b[34m\u001b[1moptimizer:\u001b[0m AdamW(lr=0.001667, momentum=0.9) with parameter groups 97 weight(decay=0.0), 104 weight(decay=0.0005), 103 bias(decay=0.0)\n",
      "Image sizes 640 train, 640 val\n",
      "Using 0 dataloader workers\n",
      "Logging results to \u001b[1mruns/detect/train\u001b[0m\n",
      "Starting training for 1 epochs...\n",
      "\n",
      "      Epoch    GPU_mem   box_loss   cls_loss   dfl_loss  Instances       Size\n",
      "^C      1/1         0G      1.816      4.414       2.01          8        640:  \n"
     ]
    }
   ],
   "source": [
    "!yolo task=detect train model=model/yolov8x_4ch_pretrained.pt data=ultralytics/cfg/datasets/RGBIR.yaml workers=2 epochs=1 batch=8 cos_lr=True"
   ]
  },
  {
   "cell_type": "markdown",
   "id": "5278d9c0-69ca-481c-a77c-170e59a0f2fd",
   "metadata": {},
   "source": [
    "# Prediction"
   ]
  },
  {
   "cell_type": "code",
   "execution_count": 23,
   "id": "a1056166-95e1-4ce1-9229-55e1e7621919",
   "metadata": {},
   "outputs": [
    {
     "name": "stdout",
     "output_type": "stream",
     "text": [
      "Traceback (most recent call last):\n",
      "  File \"/home/ricky/4ch-YOLO/ultralytics-main/4ch-YOLOv8/4ch-YOLOv8/predict.py\", line 157, in <module>\n",
      "    run_inference(\n",
      "  File \"/home/ricky/4ch-YOLO/ultralytics-main/4ch-YOLOv8/4ch-YOLOv8/predict.py\", line 79, in run_inference\n",
      "    model.to(device)\n",
      "  File \"/home/ricky/anaconda3/envs/yolo/lib/python3.10/site-packages/torch/nn/modules/module.py\", line 1355, in to\n",
      "    return self._apply(convert)\n",
      "  File \"/home/ricky/4ch-YOLO/ultralytics-main/4ch-YOLOv8/4ch-YOLOv8/ultralytics/engine/model.py\", line 877, in _apply\n",
      "    self = super()._apply(fn)  # noqa\n",
      "  File \"/home/ricky/anaconda3/envs/yolo/lib/python3.10/site-packages/torch/nn/modules/module.py\", line 915, in _apply\n",
      "    module._apply(fn)\n",
      "  File \"/home/ricky/4ch-YOLO/ultralytics-main/4ch-YOLOv8/4ch-YOLOv8/ultralytics/nn/tasks.py\", line 289, in _apply\n",
      "    self = super()._apply(fn)\n",
      "  File \"/home/ricky/anaconda3/envs/yolo/lib/python3.10/site-packages/torch/nn/modules/module.py\", line 915, in _apply\n",
      "    module._apply(fn)\n",
      "  File \"/home/ricky/anaconda3/envs/yolo/lib/python3.10/site-packages/torch/nn/modules/module.py\", line 915, in _apply\n",
      "    module._apply(fn)\n",
      "  File \"/home/ricky/anaconda3/envs/yolo/lib/python3.10/site-packages/torch/nn/modules/module.py\", line 915, in _apply\n",
      "    module._apply(fn)\n",
      "  File \"/home/ricky/anaconda3/envs/yolo/lib/python3.10/site-packages/torch/nn/modules/module.py\", line 942, in _apply\n",
      "    param_applied = fn(param)\n",
      "  File \"/home/ricky/anaconda3/envs/yolo/lib/python3.10/site-packages/torch/nn/modules/module.py\", line 1341, in convert\n",
      "    return t.to(\n",
      "  File \"/home/ricky/anaconda3/envs/yolo/lib/python3.10/site-packages/torch/cuda/__init__.py\", line 372, in _lazy_init\n",
      "    torch._C._cuda_init()\n",
      "RuntimeError: No CUDA GPUs are available\n"
     ]
    }
   ],
   "source": [
    "!python predict.py --weights pretrained/4ch-YOLOv8.pt --source_rgb datasets/RGBIR/images/rgb_val --source_ir datasets/RGBIR/images/thermal --project runs/predict --name 4ch-YOLOv8_pred --imgsz 640 --conf 0.4 --iou 0.5 --device cuda"
   ]
  },
  {
   "cell_type": "code",
   "execution_count": null,
   "id": "ba11aa1a-6e55-4e89-996d-428819098cf1",
   "metadata": {},
   "outputs": [],
   "source": []
  },
  {
   "cell_type": "code",
   "execution_count": null,
   "id": "cdbfac1c-d93a-4e93-bad2-9b134c355c34",
   "metadata": {},
   "outputs": [],
   "source": []
  },
  {
   "cell_type": "code",
   "execution_count": null,
   "id": "32d9e736-9b09-4d17-a7ed-f62f5c864a61",
   "metadata": {},
   "outputs": [],
   "source": []
  },
  {
   "cell_type": "code",
   "execution_count": null,
   "id": "21551359-fcaa-4afc-9ddc-3c022dbba49c",
   "metadata": {},
   "outputs": [],
   "source": []
  },
  {
   "cell_type": "code",
   "execution_count": null,
   "id": "04b680a1-605f-4a70-a898-127dfd914686",
   "metadata": {},
   "outputs": [],
   "source": []
  },
  {
   "cell_type": "code",
   "execution_count": null,
   "id": "3711a8aa-2a8a-4a3c-b1b0-02b3770f1547",
   "metadata": {},
   "outputs": [],
   "source": []
  },
  {
   "cell_type": "code",
   "execution_count": null,
   "id": "3d52fa95-ba6c-4bbb-b297-7d5c644f8a0a",
   "metadata": {},
   "outputs": [],
   "source": []
  },
  {
   "cell_type": "code",
   "execution_count": null,
   "id": "a4a202c8-6d33-47a9-9acc-e726b585a7a4",
   "metadata": {},
   "outputs": [],
   "source": []
  },
  {
   "cell_type": "code",
   "execution_count": null,
   "id": "aeed34cb-b3c0-4ac5-82ec-73b6134d5155",
   "metadata": {},
   "outputs": [],
   "source": []
  },
  {
   "cell_type": "code",
   "execution_count": null,
   "id": "c8065a29-6656-4cce-b72b-396035db3a4a",
   "metadata": {},
   "outputs": [],
   "source": []
  },
  {
   "cell_type": "code",
   "execution_count": null,
   "id": "8ece8af8-2757-4a36-87c5-ff74bf313732",
   "metadata": {},
   "outputs": [],
   "source": []
  },
  {
   "cell_type": "code",
   "execution_count": null,
   "id": "fe5ba8de-47a1-40cb-952f-d9bd72028dc7",
   "metadata": {},
   "outputs": [],
   "source": []
  },
  {
   "cell_type": "code",
   "execution_count": null,
   "id": "37859ecd-7854-4d38-a7f6-a73ebf8f2813",
   "metadata": {},
   "outputs": [],
   "source": []
  }
 ],
 "metadata": {
  "kernelspec": {
   "display_name": "Python (yolo)",
   "language": "python",
   "name": "yolo"
  },
  "language_info": {
   "codemirror_mode": {
    "name": "ipython",
    "version": 3
   },
   "file_extension": ".py",
   "mimetype": "text/x-python",
   "name": "python",
   "nbconvert_exporter": "python",
   "pygments_lexer": "ipython3",
   "version": "3.10.18"
  }
 },
 "nbformat": 4,
 "nbformat_minor": 5
}
